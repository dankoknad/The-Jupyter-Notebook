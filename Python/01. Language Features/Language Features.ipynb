{
 "cells": [
  {
   "cell_type": "markdown",
   "metadata": {},
   "source": [
    "### Language Features"
   ]
  },
  {
   "cell_type": "code",
   "execution_count": 2,
   "metadata": {},
   "outputs": [],
   "source": [
    "# imports go on their own lines\n",
    "import sys\n",
    "import os\n",
    "\n",
    "\n",
    "# two blank lines separate classes from other functions\n",
    "class MyClass():\n",
    "    def __init__(self):\n",
    "        self.prop1 = \"my class\"\n",
    "\n",
    "    # within classes, one blank line separates methods\n",
    "    def method1(self, arg1):\n",
    "        pass\n",
    "\n",
    "\n",
    "def main():\n",
    "    # Long comments, like this one that flow across several lines, are\n",
    "    # limited to 72 characters instead of 79 for lines of code.\n",
    "    cls1 = MyClass()\n",
    "    cls1.prop1 = \"hello world\"\n",
    "\n",
    "\n",
    "if __name__ == \"__main__\":\n",
    "    main()"
   ]
  },
  {
   "cell_type": "code",
   "execution_count": 3,
   "metadata": {},
   "outputs": [
    {
     "name": "stdout",
     "output_type": "stream",
     "text": [
      "b'ABCD'\n",
      "This is a string\n",
      "This is a stringABCD\n",
      "b'ABCDThis is a string'\n",
      "b'\\xff\\xfe\\x00\\x00T\\x00\\x00\\x00h\\x00\\x00\\x00i\\x00\\x00\\x00s\\x00\\x00\\x00 \\x00\\x00\\x00i\\x00\\x00\\x00s\\x00\\x00\\x00 \\x00\\x00\\x00a\\x00\\x00\\x00 \\x00\\x00\\x00s\\x00\\x00\\x00t\\x00\\x00\\x00r\\x00\\x00\\x00i\\x00\\x00\\x00n\\x00\\x00\\x00g\\x00\\x00\\x00'\n"
     ]
    }
   ],
   "source": [
    "# strings and bytes are not directly interchangeable\n",
    "# strings contain unicode, bytes are raw 8-bit values\n",
    "\n",
    "def main():\n",
    "    # define some starting values\n",
    "    b = bytes([0x41, 0x42, 0x43, 0x44])\n",
    "    print(b)\n",
    "    \n",
    "    s = \"This is a string\"\n",
    "    print(s)\n",
    "    \n",
    "    # Try combining them. This will cause an error:\n",
    "    # print(s+b)\n",
    "    \n",
    "    # Bytes and strings need to be properly encoded and decoded\n",
    "    # before you can work on them together\n",
    "    s2 = b.decode('utf-8')\n",
    "    print(s+s2)\n",
    "    \n",
    "    b2 = s.encode('utf-8')\n",
    "    print(b+b2)\n",
    "    \n",
    "    # encode the string as UTF-32\n",
    "    b3 = s.encode('utf-32')\n",
    "    print(b3)\n",
    "    \n",
    "if __name__ == \"__main__\":\n",
    "    main()"
   ]
  },
  {
   "cell_type": "code",
   "execution_count": 4,
   "metadata": {},
   "outputs": [
    {
     "name": "stdout",
     "output_type": "stream",
     "text": [
      "You're watching Advanced Python by Joe Marini\n",
      "You're watching Advanced Python by Joe Marini\n",
      "You're watching Advanced Python by Joe Marini\n"
     ]
    }
   ],
   "source": [
    "# demonstrate template string functions\n",
    "\n",
    "from string import Template\n",
    "\n",
    "\n",
    "def main():\n",
    "    # Usual string formatting with format()\n",
    "    str1 = \"You're running {0} by {1}\".format(\"Advanced Python\", \"Joe Marini\")\n",
    "    print(str1)\n",
    "    \n",
    "    # create a template with placeholders\n",
    "    templ = Template(\"You're watching ${title} by ${author}\")\n",
    "    \n",
    "    # use the substitute method with keyword arguments\n",
    "    str2 = templ.substitute(title=\"Advanced Python\", author=\"Joe Marini\")\n",
    "    print(str2)\n",
    "    \n",
    "    # use the substitute method with a dictionary\n",
    "    data = { \n",
    "        \"author\": \"Joe Marini\",\n",
    "        \"title\": \"Advanced Python\"\n",
    "    }\n",
    "    str3 = templ.substitute(data)    \n",
    "    print(str3)\n",
    "\n",
    "    \n",
    "if __name__ == \"__main__\":\n",
    "    main()\n",
    "    "
   ]
  }
 ],
 "metadata": {
  "kernelspec": {
   "display_name": "Python 3",
   "language": "python",
   "name": "python3"
  },
  "language_info": {
   "codemirror_mode": {
    "name": "ipython",
    "version": 3
   },
   "file_extension": ".py",
   "mimetype": "text/x-python",
   "name": "python",
   "nbconvert_exporter": "python",
   "pygments_lexer": "ipython3",
   "version": "3.7.2"
  }
 },
 "nbformat": 4,
 "nbformat_minor": 4
}
