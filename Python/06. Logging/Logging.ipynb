{
 "cells": [
  {
   "cell_type": "markdown",
   "metadata": {},
   "source": [
    "### Logging"
   ]
  },
  {
   "cell_type": "code",
   "execution_count": 3,
   "metadata": {},
   "outputs": [],
   "source": [
    "# demonstrate the logging api in Python\n",
    "\n",
    "# use the built-in logging module\n",
    "import logging\n",
    "\n",
    "\n",
    "def main():\n",
    "    # Use basicConfig to configure logging\n",
    "    # this is only executed once, subsequent calls to\n",
    "    # basicConfig will have no effect\n",
    "    logging.basicConfig(level=logging.DEBUG,\n",
    "                        filemode=\"w\",\n",
    "                        filename=\"output.log\")\n",
    "\n",
    "    # Try out each of the log levels\n",
    "    logging.debug(\"This is a debug-level log message\")\n",
    "    logging.info(\"This is an info-level log message\")\n",
    "    logging.warning(\"This is a warning-level message\")\n",
    "    logging.error(\"This is an error-level message\")\n",
    "    logging.critical(\"This is a critical-level message\")\n",
    "\n",
    "    # Output formatted string to the log\n",
    "    logging.info(\"Here's a {} variable and an int: {}\".format(\"string\", 10))\n",
    "\n",
    "\n",
    "if __name__ == \"__main__\":\n",
    "    main()"
   ]
  },
  {
   "cell_type": "code",
   "execution_count": 6,
   "metadata": {},
   "outputs": [],
   "source": [
    "# Demonstrate how to customize logging output\n",
    "\n",
    "import logging\n",
    "\n",
    "extData = {'user': 'joem@example.com'}\n",
    "\n",
    "\n",
    "def anotherFunction():\n",
    "    logging.debug(\"This is a debug-level log message\", extra=extData)\n",
    "\n",
    "\n",
    "def main():\n",
    "    # set the output file and debug level, and\n",
    "    # use a custom formatting specification\n",
    "    fmtStr = \"%(asctime)s: %(levelname)s: %(funcName)s Line:%(lineno)d User:%(user)s %(message)s\"\n",
    "    dateStr = \"%m/%d/%Y %I:%M:%S %p\"\n",
    "    logging.basicConfig(filename=\"output.log\",\n",
    "                        level=logging.DEBUG,\n",
    "                        format=fmtStr,\n",
    "                        datefmt=dateStr)\n",
    "\n",
    "    logging.info(\"This is an info-level log message\", extra=extData)\n",
    "    logging.warning(\"This is a warning-level message\", extra=extData)\n",
    "    anotherFunction()\n",
    "\n",
    "\n",
    "if __name__ == \"__main__\":\n",
    "    main()"
   ]
  }
 ],
 "metadata": {
  "kernelspec": {
   "display_name": "Python 3",
   "language": "python",
   "name": "python3"
  },
  "language_info": {
   "codemirror_mode": {
    "name": "ipython",
    "version": 3
   },
   "file_extension": ".py",
   "mimetype": "text/x-python",
   "name": "python",
   "nbconvert_exporter": "python",
   "pygments_lexer": "ipython3",
   "version": "3.7.2"
  }
 },
 "nbformat": 4,
 "nbformat_minor": 4
}
