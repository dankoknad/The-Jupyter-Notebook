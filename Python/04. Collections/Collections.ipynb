{
 "cells": [
  {
   "cell_type": "markdown",
   "metadata": {},
   "source": [
    "### Collections"
   ]
  },
  {
   "cell_type": "code",
   "execution_count": 8,
   "metadata": {},
   "outputs": [
    {
     "name": "stdout",
     "output_type": "stream",
     "text": [
      "Point(x=10, y=20) Point(x=30, y=40)\n",
      "10 20\n",
      "Point(x=100, y=20)\n"
     ]
    }
   ],
   "source": [
    "# Demonstrate the usage of namdtuple objects\n",
    "\n",
    "from collections import namedtuple\n",
    "\n",
    "\n",
    "def main():\n",
    "    # create a Point namedtuple\n",
    "    Point = namedtuple(\"Point\", \"x y\")\n",
    "\n",
    "    p1 = Point(10, 20)\n",
    "    p2 = Point(30, 40)\n",
    "\n",
    "    print(p1, p2)\n",
    "    print(p1.x, p1.y)\n",
    "\n",
    "    # use _replace to create a new instance\n",
    "    p1 = p1._replace(x=100)\n",
    "    print(p1)\n",
    "\n",
    "\n",
    "if __name__ == \"__main__\":\n",
    "    main()"
   ]
  },
  {
   "cell_type": "code",
   "execution_count": 2,
   "metadata": {},
   "outputs": [
    {
     "name": "stdout",
     "output_type": "stream",
     "text": [
      "apple: 2\n",
      "pear: 1\n",
      "orange: 1\n",
      "banana: 3\n",
      "grape: 1\n"
     ]
    }
   ],
   "source": [
    "# Demonstrate the usage of defaultdict objects\n",
    "\n",
    "from collections import defaultdict\n",
    "\n",
    "\n",
    "def main():\n",
    "    # define a list of items that we want to count\n",
    "    fruits = ['apple', 'pear', 'orange', 'banana',\n",
    "              'apple', 'grape', 'banana', 'banana']\n",
    "\n",
    "    # use a dictionary to count each element\n",
    "    fruitCounter = defaultdict(int)\n",
    "\n",
    "    # Count the elements in the list\n",
    "    for fruit in fruits:\n",
    "        fruitCounter[fruit] += 1\n",
    "\n",
    "    # print the result\n",
    "    for (k, v) in fruitCounter.items():\n",
    "        print(k + \": \" + str(v))\n",
    "\n",
    "\n",
    "if __name__ == \"__main__\":\n",
    "    main()"
   ]
  },
  {
   "cell_type": "code",
   "execution_count": 3,
   "metadata": {},
   "outputs": [
    {
     "name": "stdout",
     "output_type": "stream",
     "text": [
      "2\n",
      "11 students in class 1\n",
      "23 students in class 1 and 2\n",
      "[('James', 3), ('Frank', 2), ('Bob', 1)]\n",
      "[('James', 2)]\n",
      "Counter({'James': 1, 'Frank': 1})\n"
     ]
    }
   ],
   "source": [
    "# Demonstrate the usage of Counter objects\n",
    "\n",
    "from collections import Counter\n",
    "\n",
    "\n",
    "def main():\n",
    "    # list of students in class 1\n",
    "    class1 = [\"Bob\", \"James\", \"Chad\", \"Darcy\", \"Penny\", \"Hannah\"\n",
    "              \"Kevin\", \"James\", \"Melanie\", \"Becky\", \"Steve\", \"Frank\"]\n",
    "\n",
    "    # list of students in class 2\n",
    "    class2 = [\"Bill\", \"Barry\", \"Cindy\", \"Debbie\", \"Frank\",\n",
    "              \"Gabby\", \"Kelly\", \"James\", \"Joe\", \"Sam\", \"Tara\", \"Ziggy\"]\n",
    "\n",
    "    # Create a Counter for class1 and class2\n",
    "    c1 = Counter(class1)\n",
    "    c2 = Counter(class2)\n",
    "\n",
    "    # How many students in class 1 named James?\n",
    "    print(c1[\"James\"])\n",
    "\n",
    "    # How many students are in class 1?\n",
    "    print(sum(c1.values()), \"students in class 1\")\n",
    "\n",
    "    # Combine the two classes\n",
    "    c1.update(class2)\n",
    "    print(sum(c1.values()), \"students in class 1 and 2\")\n",
    "\n",
    "    # What's the most common name in the two classes?\n",
    "    print(c1.most_common(3))\n",
    "\n",
    "    # Separate the classes again\n",
    "    c1.subtract(class2)\n",
    "    print(c1.most_common(1))\n",
    "\n",
    "    # What's common between the two classes?\n",
    "    print(c1 & c2)\n",
    "\n",
    "\n",
    "if __name__ == \"__main__\":\n",
    "    main()"
   ]
  },
  {
   "cell_type": "code",
   "execution_count": 4,
   "metadata": {},
   "outputs": [
    {
     "name": "stdout",
     "output_type": "stream",
     "text": [
      "OrderedDict([('Warriors', (25, 5)), ('Rockets', (24, 6)), ('Dragons', (22, 8)), ('Cardinals', (20, 10)), ('Chargers', (20, 10)), ('Royals', (18, 12)), ('Jets', (16, 14)), ('Kings', (15, 15))])\n",
      "Top team:  Warriors (25, 5)\n",
      "1 Rockets\n",
      "2 Dragons\n",
      "3 Cardinals\n",
      "4 Chargers\n",
      "Equality test:  False\n"
     ]
    }
   ],
   "source": [
    "# Demonstrate the usage of OrderedDict objects\n",
    "\n",
    "from collections import OrderedDict\n",
    "\n",
    "\n",
    "def main():\n",
    "    # list of sport teams with wins and losses\n",
    "    sportTeams = [(\"Royals\", (18, 12)), (\"Rockets\", (24, 6)), \n",
    "                (\"Cardinals\", (20, 10)), (\"Dragons\", (22, 8)),\n",
    "                (\"Kings\", (15, 15)), (\"Chargers\", (20, 10)), \n",
    "                (\"Jets\", (16, 14)), (\"Warriors\", (25, 5))]\n",
    "\n",
    "    # sort the teams by number of wins\n",
    "    sortedTeams = sorted(sportTeams, key=lambda t: t[1][0], reverse=True)\n",
    "\n",
    "    # create an ordered dictionary of the teams\n",
    "    teams = OrderedDict(sortedTeams)\n",
    "    print(teams)\n",
    "\n",
    "    # Use popitem to remove the top item\n",
    "    tm, wl = teams.popitem(False)\n",
    "    print(\"Top team: \", tm, wl)\n",
    "\n",
    "    # What are next the top 4 teams?\n",
    "    for i, team in enumerate(teams, start=1):\n",
    "        print(i, team)\n",
    "        if i == 4:\n",
    "            break\n",
    "\n",
    "    # test for equality\n",
    "    a = OrderedDict({\"a\": 1, \"b\": 2, \"c\": 3})\n",
    "    b = OrderedDict({\"a\": 1, \"c\": 3, \"b\": 2})\n",
    "    print(\"Equality test: \", a == b)\n",
    "\n",
    "\n",
    "if __name__ == \"__main__\":\n",
    "    main()"
   ]
  },
  {
   "cell_type": "code",
   "execution_count": 7,
   "metadata": {},
   "outputs": [
    {
     "name": "stdout",
     "output_type": "stream",
     "text": [
      "Item count: 26\n",
      "A,B,C,D,E,F,G,H,I,J,K,L,M,N,O,P,Q,R,S,T,U,V,W,X,Y,Z,deque([1, 'b', 'c', 'd', 'e', 'f', 'g', 'h', 'i', 'j', 'k', 'l', 'm', 'n', 'o', 'p', 'q', 'r', 's', 't', 'u', 'v', 'w', 'x', 'y', 2])\n",
      "deque([1, 'b', 'c', 'd', 'e', 'f', 'g', 'h', 'i', 'j', 'k', 'l', 'm', 'n', 'o', 'p', 'q', 'r', 's', 't', 'u', 'v', 'w', 'x', 'y', 2])\n",
      "deque([2, 1, 'b', 'c', 'd', 'e', 'f', 'g', 'h', 'i', 'j', 'k', 'l', 'm', 'n', 'o', 'p', 'q', 'r', 's', 't', 'u', 'v', 'w', 'x', 'y'])\n"
     ]
    }
   ],
   "source": [
    "# deque objects are like double-ended queues\n",
    "\n",
    "from collections import deque\n",
    "from string import ascii_lowercase\n",
    "\n",
    "\n",
    "def main():\n",
    "    # initialize a deque with lowercase letters\n",
    "    d = deque(ascii_lowercase)\n",
    "\n",
    "    # deques support the len() function\n",
    "    print(\"Item count: \" + str(len(d)))\n",
    "\n",
    "    # deques can be iterated over\n",
    "    for elem in d:\n",
    "        print(elem.upper(), end=\",\")\n",
    "\n",
    "    # manipulate items from either end\n",
    "    d.pop()\n",
    "    d.popleft()\n",
    "    d.append(2)\n",
    "    d.appendleft(1)\n",
    "    print(d)\n",
    "\n",
    "    # rotate the deque\n",
    "    print(d)\n",
    "    d.rotate(1)\n",
    "    print(d)\n",
    "\n",
    "\n",
    "if __name__ == \"__main__\":\n",
    "    main()"
   ]
  }
 ],
 "metadata": {
  "kernelspec": {
   "display_name": "Python 3",
   "language": "python",
   "name": "python3"
  },
  "language_info": {
   "codemirror_mode": {
    "name": "ipython",
    "version": 3
   },
   "file_extension": ".py",
   "mimetype": "text/x-python",
   "name": "python",
   "nbconvert_exporter": "python",
   "pygments_lexer": "ipython3",
   "version": "3.7.2"
  }
 },
 "nbformat": 4,
 "nbformat_minor": 4
}
