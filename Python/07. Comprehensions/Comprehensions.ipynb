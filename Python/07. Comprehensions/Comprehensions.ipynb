{
 "cells": [
  {
   "cell_type": "markdown",
   "metadata": {},
   "source": [
    "### Comprehensions"
   ]
  },
  {
   "cell_type": "code",
   "execution_count": 1,
   "metadata": {},
   "outputs": [
    {
     "name": "stdout",
     "output_type": "stream",
     "text": [
      "[36, 64, 100, 144, 196]\n",
      "[4, 16, 36, 64, 100, 144, 196, 256, 324, 400]\n",
      "[25, 49, 81, 121, 169, 225]\n"
     ]
    }
   ],
   "source": [
    "# Demonstrate how to use list comprehensions\n",
    "\n",
    "\n",
    "def main():\n",
    "    # define two lists of numbers\n",
    "    evens = [2, 4, 6, 8, 10, 12, 14, 16, 18, 20]\n",
    "    odds = [1, 3, 5, 7, 9, 11, 13, 15, 17, 19]\n",
    "\n",
    "    # Perform a mapping and filter function on a list\n",
    "    evenSquared = list(\n",
    "        map(lambda e: e**2, filter(lambda e: e > 4 and e < 16, evens)))\n",
    "    print(evenSquared)\n",
    "\n",
    "    # Derive a new list of numbers frm a given list\n",
    "    evenSquared = [e ** 2 for e in evens]\n",
    "    print(evenSquared)\n",
    "\n",
    "    # Limit the items operated on with a predicate condition\n",
    "    oddSquared = [e ** 2 for e in odds if e > 3 and e < 17]\n",
    "    print(oddSquared)\n",
    "\n",
    "\n",
    "if __name__ == \"__main__\":\n",
    "    main()"
   ]
  },
  {
   "cell_type": "code",
   "execution_count": 2,
   "metadata": {},
   "outputs": [
    {
     "name": "stdout",
     "output_type": "stream",
     "text": [
      "{0: 32.0, 12: 53.6, 34: 93.2}\n",
      "53.6\n",
      "{'Jones': 24, 'Jameson': 18, 'Smith': 58, 'Burns': 7, 'White': 12, 'Macke': 88, 'Perce': 4}\n"
     ]
    }
   ],
   "source": [
    "# Demonstrate how to use dictionary comprehensions\n",
    "\n",
    "\n",
    "def main():\n",
    "    # define a list of temperature values\n",
    "    ctemps = [0, 12, 34, 100]\n",
    "\n",
    "    # Use a comprehension to build a dictionary\n",
    "    tempDict = {t: (t * 9/5) + 32 for t in ctemps if t < 100}\n",
    "    print(tempDict)\n",
    "    print(tempDict[12])\n",
    "\n",
    "    # Merge two dictionaries with a comprehension\n",
    "    team1 = {\"Jones\": 24, \"Jameson\": 18, \"Smith\": 58, \"Burns\": 7}\n",
    "    team2 = {\"White\": 12, \"Macke\": 88, \"Perce\": 4}\n",
    "    newTeam = {k: v for team in (team1, team2) for k, v in team.items()}\n",
    "    print(newTeam)\n",
    "\n",
    "\n",
    "if __name__ == \"__main__\":\n",
    "    main()"
   ]
  },
  {
   "cell_type": "code",
   "execution_count": 3,
   "metadata": {},
   "outputs": [
    {
     "name": "stdout",
     "output_type": "stream",
     "text": [
      "[41.0, 50.0, 53.6, 57.2, 50.0, 73.4, 105.8, 86.0, 53.6, 75.2, 53.6, 64.4, 84.2]\n",
      "{64.4, 73.4, 41.0, 105.8, 75.2, 50.0, 84.2, 53.6, 86.0, 57.2}\n",
      "{'Z', 'C', 'X', 'T', 'D', 'R', 'B', 'N', 'M', 'K', 'L', 'A', 'J', 'Q', 'O', 'V', 'U', 'E', 'P', 'I', 'W', 'G', 'H', 'F', 'Y'}\n"
     ]
    }
   ],
   "source": [
    "# Demonstrate how to use set comprehensions\n",
    "\n",
    "\n",
    "def main():\n",
    "    # define a list of temperature data points\n",
    "    ctemps = [5, 10, 12, 14, 10, 23, 41, 30, 12, 24, 12, 18, 29]\n",
    "\n",
    "    # build a set of unique Fahrenheit temperatures\n",
    "    ftemps1 = [(t * 9/5) + 32 for t in ctemps]\n",
    "    ftemps2 = {(t * 9/5) + 32 for t in ctemps}\n",
    "    print(ftemps1)\n",
    "    print(ftemps2)\n",
    "\n",
    "    # build a set from an input source\n",
    "    sTemp = \"The quick brown fox jumped over the lazy dog\"\n",
    "    chars = {c.upper() for c in sTemp if not c.isspace()}\n",
    "    print(chars)\n",
    "\n",
    "\n",
    "if __name__ == \"__main__\":\n",
    "    main()"
   ]
  }
 ],
 "metadata": {
  "kernelspec": {
   "display_name": "Python 3",
   "language": "python",
   "name": "python3"
  },
  "language_info": {
   "codemirror_mode": {
    "name": "ipython",
    "version": 3
   },
   "file_extension": ".py",
   "mimetype": "text/x-python",
   "name": "python",
   "nbconvert_exporter": "python",
   "pygments_lexer": "ipython3",
   "version": "3.7.2"
  }
 },
 "nbformat": 4,
 "nbformat_minor": 4
}
